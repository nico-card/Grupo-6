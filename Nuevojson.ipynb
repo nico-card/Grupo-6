{
  "nbformat": 4,
  "nbformat_minor": 0,
  "metadata": {
    "colab": {
      "provenance": [],
      "collapsed_sections": []
    },
    "kernelspec": {
      "name": "python3",
      "display_name": "Python 3"
    },
    "language_info": {
      "name": "python"
    }
  },
  "cells": [
    {
      "cell_type": "code",
      "source": [
        "import json\n",
        "import requests\n",
        "from pprint import pprint"
      ],
      "metadata": {
        "id": "Jo1m9DkqhEER"
      },
      "execution_count": null,
      "outputs": []
    },
    {
      "cell_type": "code",
      "source": [
        "response=requests.get(\"https://fp.josedomingo.org/lmgs/u05/ej2.json\")\n",
        "pendientes=json.loads(response.text)"
      ],
      "metadata": {
        "id": "s5mtAsaGhFat"
      },
      "execution_count": null,
      "outputs": []
    },
    {
      "cell_type": "markdown",
      "source": [],
      "metadata": {
        "id": "1XuFgVung9kY"
      }
    },
    {
      "cell_type": "code",
      "execution_count": null,
      "metadata": {
        "id": "-7NI5uxZ7rgx",
        "colab": {
          "base_uri": "https://localhost:8080/"
        },
        "outputId": "49e7ac82-69db-493a-e430-22ce4edd973b"
      },
      "outputs": [
        {
          "output_type": "stream",
          "name": "stdout",
          "text": [
            "\n",
            "[{'Profesorado': [{'$id': '2', 'NombreCompleto': 'Reinhard Dlugay'}],\n",
            "  'Titulo': 'Alemán - Prueba de nivel - Para cursos segundo cuatrimestre'},\n",
            " {'Profesorado': [{'$id': '4', 'NombreCompleto': 'Beatriz Hernández Bravo'}],\n",
            "  'Titulo': 'Español - Prueba de nivel - Para cursos segundo cuatrimestre'},\n",
            " {'Profesorado': [{'$id': '6', 'NombreCompleto': 'Marie-Morgane Le Folgoc'}],\n",
            "  'Titulo': 'Francés - Prueba de nivel - Para cursos segundo cuatrimestre'},\n",
            " {'Profesorado': [{'$id': '8', 'NombreCompleto': 'María Luisa Capón Mouriz'}],\n",
            "  'Titulo': 'Inglés - Prueba de nivel - para cursos de Inglés para la Docencia '\n",
            "            'y preparatorio de GESE Trinity'},\n",
            " {'Profesorado': [{'$id': '10', 'NombreCompleto': 'María Luisa Capón Mouriz'},\n",
            "                  {'$id': '11', 'NombreCompleto': 'Richard James Murison'},\n",
            "                  {'$id': '12',\n",
            "                   'NombreCompleto': 'María Isabel Rodríguez Rodríguez'},\n",
            "                  {'$id': '13', 'NombreCompleto': 'Beatriz Freire Betancor'},\n",
            "                  {'$id': '14',\n",
            "                   'NombreCompleto': 'Peggy Gerd Henriksson Carlsson'},\n",
            "                  {'$id': '15',\n",
            "                   'NombreCompleto': 'Eva Miriam Amaral Ribeiro Sampaio de '\n",
            "                                     'Andrade'},\n",
            "                  {'$id': '16', 'NombreCompleto': 'Marta María González Orta'}],\n",
            "  'Titulo': 'Inglés - Prueba de nivel - Para cursos segundo cuatrimestre'},\n",
            " {'Profesorado': [{'$id': '18', 'NombreCompleto': 'Clive Tyrell'}],\n",
            "  'Titulo': 'Inglés - Prueba de nivel - Para preparatorios del '\n",
            "            'FCE/CAE/CPE/IELTS'},\n",
            " {'Profesorado': [{'$id': '20', 'NombreCompleto': 'Nicola Cataldo'}],\n",
            "  'Titulo': 'Italiano - Prueba de nivel - Para cursos segundo cuatrimestre'}]\n"
          ]
        }
      ],
      "source": [
        "\n",
        "for p in pendientes:\n",
        "  del p[\"URL\"]\n",
        "  del p[\"$id\"]\n",
        "  del p[\"MCER\"]\n",
        "  del p[\"Nivel\"]\n",
        "  del p[\"ID\"]\n",
        "  del p[\"Horario\"]\n",
        "  del p[\"InicioImparticion\"]\n",
        "  del p[\"FinImparticion\"]\n",
        "  del p[\"Horas\"]\n",
        "  del p[\"TipoFormacion\"]\n",
        "  del p[\"ECTS\"]\n",
        "  del p[\"Categoria\"]\n",
        "\n",
        "print()\n",
        "pprint(pendientes)"
      ]
    }
  ]
}