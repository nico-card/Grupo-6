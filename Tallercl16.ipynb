{
  "nbformat": 4,
  "nbformat_minor": 0,
  "metadata": {
    "colab": {
      "provenance": [],
      "collapsed_sections": []
    },
    "kernelspec": {
      "name": "python3",
      "display_name": "Python 3"
    },
    "language_info": {
      "name": "python"
    }
  },
  "cells": [
    {
      "cell_type": "markdown",
      "source": [
        "Escribir un programa que pregunte al usuario su nombre, edad, dirección y teléfono, guarde la información en un diccionario.\n",
        " Después debe mostrar por pantalla el mensaje:\n",
        "<nombre> tiene <edad> años, vive en <dirección> y su número de teléfono es <teléfono>."
      ],
      "metadata": {
        "id": "yvEX7qvJG_Ws"
      }
    },
    {
      "cell_type": "code",
      "execution_count": null,
      "metadata": {
        "id": "zwxxloZqFyOC"
      },
      "outputs": [],
      "source": [
        "nom= input(\"Escribe tu nombre aquí: \") #declaramos la variable donde va el Nombre\n",
        "ed= int(input(\"Escribe tu edad aquí: \"))  \n",
        "dir= input(\"Escribe tu dirección aquí : \")\n",
        "tel= input(\"Escribe tu telefono: \")\n",
        "\n",
        "\n",
        "Diccionario= {'Nombre':nom, 'Edad': ed, 'Direccion': dir, 'Telefono': tel} #abrimos el DICCIONARIO   asiganmos CLAVES \n",
        "print(Diccionario['Nombre'], 'Usted tiene', Diccionario['Edad'], 'años', 'vive actualemte en', Diccionario['Direccion'] , 'el  numero ingresado  es' , Diccionario['Telefono'])"
      ]
    },
    {
      "cell_type": "markdown",
      "source": [
        "Escribir un programa que pregunte una fecha actual y de nacimiento ‘dd/mm/aaaa’ y muestre por pantalla la misma fecha en formato “dia/mes/aaaa” y sus días de vida son <####>\n",
        "no tenga en cuenta años bisiestos, \n"
      ],
      "metadata": {
        "id": "uS22WNatHC7Y"
      }
    },
    {
      "cell_type": "code",
      "source": [
        "Diaa=int(input(\"Ingrese Dia actual: \"))#declaramos la variable donde va el dia actual\n",
        "Mesa=int(input(\" mes actual: \"))#declaramos la variable donde va el mes actual\n",
        "Añoa=int(input(\" año actual: \"))#declaramos la variable donde va el año actual\n",
        "Dian=int(input(\"ingrese su dia de nacimiento: \"))#declaramos la variable donde va el dia de nacimiento\n",
        "Mesn=int(input(\" su mes de nacimiento: \"))#declaramos la variable donde va el mes de nacimiento\n",
        "Añon= int(input(\" su año de nacimiento: \") )#declaramos la variable donde va el año de nacimiento\n",
        "print('La fecha actual ingresada es:',Diaa,\"/\",Mesa,\"/\",Añoa,'\\nLa fecha de nacimiento ingresada es:',Dian,\"/\",Mesn,\"/\",Añon)\n",
        "diasha= (Diaa+(Mesa*30)+((Añoa-1)*12*30)) #operamos para asi saber la cantidad de dias desde 0 hasta la fecha actual aunque no contamos los meses con 31 dias ya que no supimos como contar los meses con 31 y con 30\n",
        "diashn=(Dian+(Mesn*30)+((Añon-1)*12*30))#operamos para asi saber la cantidad de dias desde 0 hasta la la fecha de nacimiento aunque como en el caso aneterior, no contamos los meses con 31 dias\n",
        "print(\"Usted tiene actualmente \",diasha-diashn,\" dias\")#imprimimos los dias de vida totales del usuario restando los dias hasta la fecha actual de los de la fecha de nacimiento"
      ],
      "metadata": {
        "id": "VnYFdpUqHHvr"
      },
      "execution_count": null,
      "outputs": []
    },
    {
      "cell_type": "markdown",
      "source": [
        " Escribir un programa que administre un dictado de dictados, {1:{},2:{},,,,,,,#:{}}.\n",
        "Debe preguntar a cada usuario, tres datos (los que definan), y a partir de estos crear un dictado por usuario.\n",
        "El dictado será de esta manera:\n",
        "La clave será un entero respectivo al orden en que el usuario ingresa los datos.\n",
        "El valor será un dictado con los tres datos del usuario elegidos.\n",
        "{‘dato1’:857,‘dato2’:True,‘dato3’:’dffd’}\n"
      ],
      "metadata": {
        "id": "JHwP3Is8HIFX"
      }
    },
    {
      "cell_type": "code",
      "source": [
        "Dictado0={} #   No entendemos  porque aparece ERROR \n",
        "p=0\n",
        "x=1\n",
        "y=input(\" Ingrese el usurario \")\n",
        "while y==x:\n",
        "  d1={}\n",
        "  print(f\"El nombre del usuario agregado es: {p}\")\n",
        "  dato1=input(\"Ingrese tipo de sangre: \")\n",
        "  dato2=input(\"Ingrese color de cabello: \")\n",
        "  dato3=input(\"Ingrese color favorito: \")\n",
        "  dict1[\"dato1\"]=dato1\n",
        "  dict1[\"dato2\"]=dato2\n",
        "  dict1[\"dato3\"]=dato3\n",
        "  Dictado0[posicion]=dict1\n",
        "  posicion+=1\n",
        "  y=input(\"¿Desea agregar un usuario? \")\n",
        "M=max(Dictado0) \n",
        "m=min(Dictado0)\n",
        "print(Dictado0)\n",
        "print(f\"El primer usuario es: {m}:{Dictado0[m]} y el ultimo usuario es: {M}:{Dictado0[M]}.\")"
      ],
      "metadata": {
        "id": "iDyltF0DHNxb",
        "colab": {
          "base_uri": "https://localhost:8080/",
          "height": 252
        },
        "outputId": "67cdf6d4-3c5c-4e4f-acec-ce2b9d842b32"
      },
      "execution_count": null,
      "outputs": [
        {
          "name": "stdout",
          "output_type": "stream",
          "text": [
            " Ingrese el usurario nil\n"
          ]
        },
        {
          "output_type": "error",
          "ename": "ValueError",
          "evalue": "ignored",
          "traceback": [
            "\u001b[0;31m---------------------------------------------------------------------------\u001b[0m",
            "\u001b[0;31mValueError\u001b[0m                                Traceback (most recent call last)",
            "\u001b[0;32m<ipython-input-5-c353d8fc8f21>\u001b[0m in \u001b[0;36m<module>\u001b[0;34m\u001b[0m\n\u001b[1;32m     15\u001b[0m   \u001b[0mposicion\u001b[0m\u001b[0;34m+=\u001b[0m\u001b[0;36m1\u001b[0m\u001b[0;34m\u001b[0m\u001b[0;34m\u001b[0m\u001b[0m\n\u001b[1;32m     16\u001b[0m   \u001b[0my\u001b[0m\u001b[0;34m=\u001b[0m\u001b[0minput\u001b[0m\u001b[0;34m(\u001b[0m\u001b[0;34m\"¿Desea agregar un usuario? \"\u001b[0m\u001b[0;34m)\u001b[0m\u001b[0;34m\u001b[0m\u001b[0;34m\u001b[0m\u001b[0m\n\u001b[0;32m---> 17\u001b[0;31m \u001b[0mM\u001b[0m\u001b[0;34m=\u001b[0m\u001b[0mmax\u001b[0m\u001b[0;34m(\u001b[0m\u001b[0mDictado0\u001b[0m\u001b[0;34m)\u001b[0m\u001b[0;34m\u001b[0m\u001b[0;34m\u001b[0m\u001b[0m\n\u001b[0m\u001b[1;32m     18\u001b[0m \u001b[0mm\u001b[0m\u001b[0;34m=\u001b[0m\u001b[0mmin\u001b[0m\u001b[0;34m(\u001b[0m\u001b[0mDictado0\u001b[0m\u001b[0;34m)\u001b[0m\u001b[0;34m\u001b[0m\u001b[0;34m\u001b[0m\u001b[0m\n\u001b[1;32m     19\u001b[0m \u001b[0mprint\u001b[0m\u001b[0;34m(\u001b[0m\u001b[0mDictado0\u001b[0m\u001b[0;34m)\u001b[0m\u001b[0;34m\u001b[0m\u001b[0;34m\u001b[0m\u001b[0m\n",
            "\u001b[0;31mValueError\u001b[0m: max() arg is an empty sequence"
          ]
        }
      ]
    }
  ]
}