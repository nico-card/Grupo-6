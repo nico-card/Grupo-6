{
  "nbformat": 4,
  "nbformat_minor": 0,
  "metadata": {
    "colab": {
      "provenance": [],
      "collapsed_sections": []
    },
    "kernelspec": {
      "name": "python3",
      "display_name": "Python 3"
    },
    "language_info": {
      "name": "python"
    }
  },
  "cells": [
    {
      "cell_type": "markdown",
      "source": [
        "1. Define a procedure histogram () that takes a list of whole numbers and prints a histogram on the screen. "
      ],
      "metadata": {
        "id": "rrUOzL9jfjkg"
      }
    },
    {
      "cell_type": "code",
      "source": [
        "def histogram(lis):\n",
        "  for n in lis:\n",
        "        output = ''\n",
        "        times = n\n",
        "        while( times > 0 ):\n",
        "          output += '*'\n",
        "          times = times - 1\n",
        "        print(output)\n",
        "\n",
        "histogram([2, 3, 6, 5])\n"
      ],
      "metadata": {
        "colab": {
          "base_uri": "https://localhost:8080/"
        },
        "id": "EOOFBZxrfq1Z",
        "outputId": "ae4e7085-394f-4b25-d8e8-a9e50b80c565"
      },
      "execution_count": null,
      "outputs": [
        {
          "output_type": "stream",
          "name": "stdout",
          "text": [
            "**\n",
            "***\n",
            "******\n",
            "*****\n"
          ]
        }
      ]
    },
    {
      "cell_type": "markdown",
      "source": [
        "2. Write a longer_long () function that takes a list of words and returns the longest."
      ],
      "metadata": {
        "id": "bSzSDQ-9fsDU"
      }
    },
    {
      "cell_type": "code",
      "source": [
        "def longer_long(lista):\n",
        "\tpalabra_mayor = len(lista[0])\n",
        "\tpalabra_mostrar = lista[0]\n",
        "\n",
        "\tfor palabra in lista:\n",
        "\t\tif palabra_mayor <= len(palabra):\n",
        "\t\t\tpalabra_mostrar = palabra\n",
        "\t\t\tpalabra_mayor = len(palabra)\n",
        "\t\telse:\n",
        "\t\t\tpalabra_mostrar = palabra_mostrar\n",
        "\n",
        "\tprint(palabra_mostrar)\n",
        "\n",
        "lista = [\"a\", \"lipidos\", \"citoplastos\"]\n",
        "longer_long(lista)"
      ],
      "metadata": {
        "colab": {
          "base_uri": "https://localhost:8080/"
        },
        "id": "_ExaqTFvf0YT",
        "outputId": "27284970-cfc0-411c-b68e-a3cf81543923"
      },
      "execution_count": null,
      "outputs": [
        {
          "output_type": "stream",
          "name": "stdout",
          "text": [
            "citoplastos\n"
          ]
        }
      ]
    },
    {
      "cell_type": "markdown",
      "source": [
        "3. Write a program that tells the user to enter a string. The program has to evaluate the string and say how many capital letters it has."
      ],
      "metadata": {
        "id": "6Wh4vfjIf4Ho"
      }
    },
    {
      "cell_type": "code",
      "source": [
        "cadena = input('ingrese una cadena')\n",
        "#para eliminar los espacios:\n",
        "cadena = cadena.replace(' ', '')\n",
        "cont = 0\n",
        "for i in cadena:\n",
        " if i == i.upper():\n",
        "  cont+= 1\n",
        "print('cantidad de mayúsculas: ', cont)"
      ],
      "metadata": {
        "colab": {
          "base_uri": "https://localhost:8080/"
        },
        "id": "4uiF-Eagf5LK",
        "outputId": "eefa8b9d-bcc5-4e86-e365-b2c5b93c5276"
      },
      "execution_count": null,
      "outputs": [
        {
          "output_type": "stream",
          "name": "stdout",
          "text": [
            "ingrese una cadenaMiToCnDrIa\n",
            "cantidad de mayúsculas:  5\n"
          ]
        }
      ]
    },
    {
      "cell_type": "markdown",
      "source": [
        "4.Build a small program that converts binary numbers to integers."
      ],
      "metadata": {
        "id": "WCbmCfYGf9BS"
      }
    },
    {
      "cell_type": "code",
      "source": [
        "binario = input('ingresar un numero en binario: ')\n",
        "entero = int(binario, base=2) \n",
        "print('El numero ingresado es: ', binario, \"y la conversion a entero es: \", entero)"
      ],
      "metadata": {
        "id": "vQuIYAcFf94X",
        "colab": {
          "base_uri": "https://localhost:8080/"
        },
        "outputId": "9b5411cf-d087-4c27-a609-548535ea8ab3"
      },
      "execution_count": null,
      "outputs": [
        {
          "output_type": "stream",
          "name": "stdout",
          "text": [
            "ingresar un numero en binario: 1111\n",
            "El numero ingresado es:  1111 y la conversion a entero es:  15\n"
          ]
        }
      ]
    },
    {
      "cell_type": "markdown",
      "source": [
        "5.Create a function count_vols (), which receives a word and counts how many letters \"a\" it has, how many letters \"e\" it has, and so on until all the vowels are completed."
      ],
      "metadata": {
        "id": "Ox8YL7y7gj9x"
      }
    },
    {
      "cell_type": "code",
      "source": [
        "frase = input(\"Ingresa una palabra o frase: \")\n",
        "\n",
        "def count_vols (frase):\n",
        "  counta = 0\n",
        "  counte = 0\n",
        "  counti = 0\n",
        "  counto = 0\n",
        "  countu = 0\n",
        "  for i in frase:\n",
        "      if i == \"a\":\n",
        "          counta = counta + 1\n",
        "      elif i == \"e\":\n",
        "          counte = counte + 1\n",
        "      elif i == \"i\":\n",
        "          counti = counti + 1\n",
        "      elif i == \"o\":\n",
        "          counto = counto + 1\n",
        "      elif i == \"u\":\n",
        "          countu = countu + 1\n",
        "  resultado = print(\"La palabra o frase ingresada es: \", frase, \"y contiene:\\n1)A =\",counta,\"\\n2)E =\",counte,\"\\n3)I =\",counti,\"\\n4)O =\",counto,\"\\n5)U =\",countu,)\n",
        "\n",
        "count_vols(frase)"
      ],
      "metadata": {
        "id": "DVq48hUDgk97"
      },
      "execution_count": null,
      "outputs": []
    },
    {
      "cell_type": "markdown",
      "source": [
        "6.Write a function is leap () that determines if a given year is a leap year\n"
      ],
      "metadata": {
        "id": "hTS2Hib0goel"
      }
    },
    {
      "cell_type": "code",
      "source": [
        "Año= int(input(\"Escribe el año: \"))  \n",
        "def CheckLeap(Año):  \n",
        "  # Checking if the given year is leap year  \n",
        "  if((Año % 400 == 0) or  \n",
        "     (Año % 100 != 0) and  \n",
        "     (Año % 4 == 0)):   \n",
        "    print(\"Año es bisiesto\");  \n",
        "  # Else it is not a leap year  \n",
        "  else:  \n",
        "    print (\"No es bisiesto\")   \n",
        "CheckLeap(Año)  \n",
        "  "
      ],
      "metadata": {
        "id": "MlwmqYJvgpKb"
      },
      "execution_count": null,
      "outputs": []
    },
    {
      "cell_type": "markdown",
      "source": [
        "7. Write a program that asks for two words and tells whether or not they rhyme. If the last three letters match, you have to say that they rhyme. If only the last two coincide, he has to say that they rhyme a bit and if not, that they do not rhyme."
      ],
      "metadata": {
        "id": "GBZ10GfegsyV"
      }
    },
    {
      "cell_type": "code",
      "source": [
        "p1= input(\"escriba primera palabra\")\n",
        "p2= input(\"escriba segunda palabra\")\n",
        "ultimas3palabras1= p1[-3:]\n",
        "ultimas2palabras1= p1[-2:]\n",
        "ultimas3palabras2= p2[-3:]\n",
        "ultimas2palabras2= p2[-2:]\n",
        "if ultimas3palabras1 == ultimas3palabras2:\n",
        "  print(\"las palabras riman\")\n",
        "else:\n",
        "  if ultimas2palabras1 == ultimas2palabras2:\n",
        "   print(\"las palabras riman un poco\")   \n",
        "  else:\n",
        "   print(\"las palabras no riman\")"
      ],
      "metadata": {
        "id": "5_mhrqYAgtt5",
        "colab": {
          "base_uri": "https://localhost:8080/"
        },
        "outputId": "7b5118e4-18cf-4ce9-a4e1-0ac430c28aa8"
      },
      "execution_count": null,
      "outputs": [
        {
          "output_type": "stream",
          "name": "stdout",
          "text": [
            "escriba primera palabracaso\n",
            "escriba segunda palabrapeso\n",
            "las palabras riman un poco\n"
          ]
        }
      ]
    },
    {
      "cell_type": "markdown",
      "source": [
        "8.It has a program that asks the user for a dollar amount, an interest rate, and a number of years. It shows on the screen how much the initial capital will have been converted after those years if the interest rate entered is applied each year."
      ],
      "metadata": {
        "id": "VUgjx_UvgyPV"
      }
    },
    {
      "cell_type": "code",
      "source": [
        "#Vp= Va*(1+i)**n\n",
        "\n",
        "ValorInicial= float(input(\"Ingrese Capital inicial en dolares: \"))\n",
        "Interes = float(input('Ingrese Interes anual: '))\n",
        "años = int(input('Ingrese Cantidad de años: '))\n",
        " \n",
        "x = (ValorInicial * (1 + Interes/100) ** años)\n",
        " \n",
        "print('El capital total al cabo de %d años sera de %.2f' %(años,x))\n"
      ],
      "metadata": {
        "id": "eC3D18OUgzOE",
        "colab": {
          "base_uri": "https://localhost:8080/"
        },
        "outputId": "5b988f71-7a43-479a-9200-dacc8dee0cc9"
      },
      "execution_count": null,
      "outputs": [
        {
          "output_type": "stream",
          "name": "stdout",
          "text": [
            "Ingrese Capital inicial en dolares: 567\n",
            "Ingrese Interes anual: 9\n",
            "Ingrese Cantidad de años: 8\n",
            "El capital total al cabo de 8 años sera de 1129.78\n"
          ]
        }
      ]
    },
    {
      "cell_type": "markdown",
      "source": [
        "9. Create an algorithm that ask for one number the (0 to 100), the program have to create a multiplication table from 0 to the selected number."
      ],
      "metadata": {
        "id": "ljDbUiQUg3LA"
      }
    },
    {
      "cell_type": "code",
      "source": [
        "print(\"enter a number from 0 to 100\")\n",
        "n=int(input())\n",
        "print(\"your number from 0 to 100:\",n )\n",
        "for f in range(0,n+1): \n",
        "  m=f*n\n",
        "  print(f'{f} x {n} = {m}')"
      ],
      "metadata": {
        "id": "Cp7P7i8Wg361",
        "colab": {
          "base_uri": "https://localhost:8080/"
        },
        "outputId": "09275c0a-a7e0-4e89-f635-3701de60068f"
      },
      "execution_count": null,
      "outputs": [
        {
          "output_type": "stream",
          "name": "stdout",
          "text": [
            "enter a number from 0 to 100\n",
            "8\n",
            "your number from 0 to 100: 8\n",
            "0 x 8 = 0\n",
            "1 x 8 = 8\n",
            "2 x 8 = 16\n",
            "3 x 8 = 24\n",
            "4 x 8 = 32\n",
            "5 x 8 = 40\n",
            "6 x 8 = 48\n",
            "7 x 8 = 56\n",
            "8 x 8 = 64\n"
          ]
        }
      ]
    }
  ]
}