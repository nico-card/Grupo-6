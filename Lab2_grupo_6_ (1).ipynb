{
  "nbformat": 4,
  "nbformat_minor": 0,
  "metadata": {
    "colab": {
      "provenance": [],
      "collapsed_sections": []
    },
    "kernelspec": {
      "name": "python3",
      "display_name": "Python 3"
    },
    "language_info": {
      "name": "python"
    }
  },
  "cells": [
    {
      "cell_type": "markdown",
      "source": [
        "1. Define a procedure histogram () that takes a list of whole numbers and prints a histogram on the screen. "
      ],
      "metadata": {
        "id": "rrUOzL9jfjkg"
      }
    },
    {
      "cell_type": "code",
      "source": [
        "def histogram(lis): #Se define el histograma\n",
        "  for n in lis: # Creamos le bucle para repetir los n    \n",
        "        output = '' #Definimos variables\n",
        "        times = n\n",
        "        while( times > 0 ): # Condicional donde times es mayor a 0 \n",
        "          output += '*' # Poner asteriscos como indique la posición de la actual lista\n",
        "          times = times - 1 #Se resta 1 el bucle sabe cuando detenerse \n",
        "        print(output)\n",
        "\n",
        "histogram([2, 3, 6, 5])\n"
      ],
      "metadata": {
        "colab": {
          "base_uri": "https://localhost:8080/"
        },
        "id": "EOOFBZxrfq1Z",
        "outputId": "ae4e7085-394f-4b25-d8e8-a9e50b80c565"
      },
      "execution_count": null,
      "outputs": [
        {
          "output_type": "stream",
          "name": "stdout",
          "text": [
            "**\n",
            "***\n",
            "******\n",
            "*****\n"
          ]
        }
      ]
    },
    {
      "cell_type": "markdown",
      "source": [
        "2. Write a longer_long () function that takes a list of words and returns the longest."
      ],
      "metadata": {
        "id": "bSzSDQ-9fsDU"
      }
    },
    {
      "cell_type": "code",
      "source": [
        "def longer_long(lista): \n",
        "\tpalabra_mayor = len(lista[0])  #Definimos variables \n",
        "\tpalabra_mostrar = lista[0]\n",
        "\n",
        "\tfor palabra in lista:\n",
        "\t\tif palabra_mayor <= len(palabra): #Creamos un ciclo donde sen compara una palabra con la siguiente para determinar\n",
        "\t\t\tpalabra_mostrar = palabra \n",
        "\t\t\tpalabra_mayor = len(palabra) \n",
        "\t\telse:\n",
        "\t\t\tpalabra_mostrar = palabra_mostrar #Si la palabra en mostrar ya es lamayor se detiene\n",
        "\n",
        "\tprint(palabra_mostrar)\n",
        "\n",
        "lista = [\"a\", \"lipidos\", \"citoplastos\"]\n",
        "longer_long(lista)"
      ],
      "metadata": {
        "colab": {
          "base_uri": "https://localhost:8080/"
        },
        "id": "_ExaqTFvf0YT",
        "outputId": "27284970-cfc0-411c-b68e-a3cf81543923"
      },
      "execution_count": null,
      "outputs": [
        {
          "output_type": "stream",
          "name": "stdout",
          "text": [
            "citoplastos\n"
          ]
        }
      ]
    },
    {
      "cell_type": "markdown",
      "source": [
        "3. Write a program that tells the user to enter a string. The program has to evaluate the string and say how many capital letters it has."
      ],
      "metadata": {
        "id": "6Wh4vfjIf4Ho"
      }
    },
    {
      "cell_type": "code",
      "source": [
        "cadena = input('ingrese una cadena')\n",
        "#para eliminar los espacios:\n",
        "cadena = cadena.replace(' ', '')\n",
        "cont = 0 \n",
        "for i in cadena:\n",
        " if i == i.upper(): #Con la función upper convertimos en mayusculas, en este caso leemos las mayusculas de la cadena \n",
        "  cont+= 1 # Sumar 1 por cada mayusculan dentro de la cadena \n",
        "print('cantidad de mayúsculas: ', cont) #Iprimier cantidad cont en enteros "
      ],
      "metadata": {
        "colab": {
          "base_uri": "https://localhost:8080/"
        },
        "id": "4uiF-Eagf5LK",
        "outputId": "eefa8b9d-bcc5-4e86-e365-b2c5b93c5276"
      },
      "execution_count": null,
      "outputs": [
        {
          "output_type": "stream",
          "name": "stdout",
          "text": [
            "ingrese una cadenaMiToCnDrIa\n",
            "cantidad de mayúsculas:  5\n"
          ]
        }
      ]
    },
    {
      "cell_type": "markdown",
      "source": [
        "4.Build a small program that converts binary numbers to integers."
      ],
      "metadata": {
        "id": "WCbmCfYGf9BS"
      }
    },
    {
      "cell_type": "code",
      "source": [
        "binario = input('ingresar un numero en binario: ') #Se solicita al usuario un numero en binario.\n",
        "entero = int(binario, base=2) #int se encarga de transformar la variable \"binario\" a la \"base\" indicada.\n",
        "print('El numero ingresado es: ', binario, \"y la conversion a entero es: \", entero) #Imprime el nuevo valor  ya generado."
      ],
      "metadata": {
        "id": "vQuIYAcFf94X",
        "colab": {
          "base_uri": "https://localhost:8080/"
        },
        "outputId": "9b5411cf-d087-4c27-a609-548535ea8ab3"
      },
      "execution_count": null,
      "outputs": [
        {
          "output_type": "stream",
          "name": "stdout",
          "text": [
            "ingresar un numero en binario: 1111\n",
            "El numero ingresado es:  1111 y la conversion a entero es:  15\n"
          ]
        }
      ]
    },
    {
      "cell_type": "markdown",
      "source": [
        "5.Create a function count_vols (), which receives a word and counts how many letters \"a\" it has, how many letters \"e\" it has, and so on until all the vowels are completed."
      ],
      "metadata": {
        "id": "Ox8YL7y7gj9x"
      }
    },
    {
      "cell_type": "code",
      "source": [
        "frase = input(\"Ingresa una palabra o frase: \") #Solicita al usuario una palabra o frase.\n",
        "\n",
        "def count_vols (frase): #def indica que será una funcion, count_vols es el nombre de la funcion y \"frase\" es la variable de entrada.\n",
        "  counta = 0 #Counta,e,i,o,u son para inicializar las variables.\n",
        "  counte = 0\n",
        "  counti = 0\n",
        "  counto = 0\n",
        "  countu = 0\n",
        "  for i in frase: #\"i\" es donde empezara a buscar caracter por caracter, en este caso la posicion \"0\" de la palabra ingresada por el usuario y \"frase\", era la longitud que tenga dicha frase.\n",
        "      if i == \"a\": # si la posicion \"0\",\"1\",\"2\",etc, tiene una letra igual a \"a\" entonces,sumara 1 a la variable \"counta\", de igual manera con las demas vocales.\n",
        "          counta = counta + 1\n",
        "      elif i == \"e\":\n",
        "          counte = counte + 1\n",
        "      elif i == \"i\":\n",
        "          counti = counti + 1\n",
        "      elif i == \"o\":\n",
        "          counto = counto + 1\n",
        "      elif i == \"u\":\n",
        "          countu = countu + 1\n",
        "  resultado = print(\"La palabra o frase ingresada es: \", frase, \"y contiene:\\n1)A =\",counta,\"\\n2)E =\",counte,\"\\n3)I =\",counti,\"\\n4)O =\",counto,\"\\n5)U =\",countu,) #Una vez termido el ciclo for, en \"resultado\" se almacenara la impresion de la cantidad de vocales que hay en cada una de las variables que se inicializaron.\n",
        "\n",
        "count_vols(frase) # Se llama a la funcion para que nos brinde el \"resultado\"."
      ],
      "metadata": {
        "id": "DVq48hUDgk97"
      },
      "execution_count": null,
      "outputs": []
    },
    {
      "cell_type": "markdown",
      "source": [
        "6.Write a function is leap () that determines if a given year is a leap year\n"
      ],
      "metadata": {
        "id": "hTS2Hib0goel"
      }
    },
    {
      "cell_type": "code",
      "source": [
        "Año= int(input(\"Escribe el año: \"))  \n",
        "def CheckLeap(Año):  \n",
        "  # Definimos la función para año bisiesto \n",
        "  if((Año % 400 == 0) or  #Condiciones de un año  bisiesto, divisible por 400 on100 y 4\n",
        "     (Año % 100 != 0) and  \n",
        "     (Año % 4 == 0)):   \n",
        "    print(\"Año es bisiesto\");  \n",
        "  # Si no es entonces no es bisiesto\n",
        "  else:  \n",
        "    print (\"No es bisiesto\")   \n",
        "CheckLeap(Año) #Se imprime la línea final  \n",
        "  "
      ],
      "metadata": {
        "id": "MlwmqYJvgpKb"
      },
      "execution_count": null,
      "outputs": []
    },
    {
      "cell_type": "markdown",
      "source": [
        "7. Write a program that asks for two words and tells whether or not they rhyme. If the last three letters match, you have to say that they rhyme. If only the last two coincide, he has to say that they rhyme a bit and if not, that they do not rhyme."
      ],
      "metadata": {
        "id": "GBZ10GfegsyV"
      }
    },
    {
      "cell_type": "code",
      "source": [
        "p1= input(\"escriba primera palabra: \") #ingreso variable 1 con especificacion de ingresar una palabra.\n",
        "p2= input(\"escriba segunda palabra: \") #ingreso variable 2 con especificacion de ingresar una palabra.\n",
        "ultimas3letras1= p1[-3:] #especificacion de las ultimas 3 letras de la palabra 1\n",
        "ultimas2letras1= p1[-2:] #especificacion de las ultimas 2 letras de la palabra 1\n",
        "ultimas3letras2= p2[-3:] #especificacion de las ultimas 3 letras de la palabra 2\n",
        "ultimas2letras2= p2[-2:] #especificacion de las ultimas 2 letras de la palabra 2\n",
        "if ultimas3letras1 == ultimas3letras2: # condicionamos si las ultimas 3  letras de la palabra 1 y las ultimas 3 letras de la palabra 2 son iguales entonces.....\n",
        "  print(\"las palabras riman\") #imprimir \"las palabras riman\"\n",
        "else: # aca ponemos el else ya que si no se cumple la condicion anterior entonces ponemos una condicion nueva\n",
        "  if ultimas2letras1 == ultimas2letras2: # hacemos una nueva condicion donde si las ultimas 2 letras de la palabra 1 y las ultimas 2 letras de la palabra 2 son iguales entonces..\n",
        "   print(\"las palabras riman un poco\")   #imprimir \"las palabras riman un poco\"\n",
        "  else: # de nuevo ponemos el els por si no se cummple ninguna de las dos condiciones anteriores entonces...\n",
        "   print(\"las palabras no riman\") # imprimir las palabras no riman"
      ],
      "metadata": {
        "id": "5_mhrqYAgtt5",
        "colab": {
          "base_uri": "https://localhost:8080/"
        },
        "outputId": "d3f0f29d-0596-4b0d-b9c1-b888863137d4"
      },
      "execution_count": null,
      "outputs": [
        {
          "output_type": "stream",
          "name": "stdout",
          "text": [
            "escriba primera palabra: caso\n",
            "escriba segunda palabra: paso\n",
            "las palabras riman\n"
          ]
        }
      ]
    },
    {
      "cell_type": "markdown",
      "source": [
        "8.It has a program that asks the user for a dollar amount, an interest rate, and a number of years. It shows on the screen how much the initial capital will have been converted after those years if the interest rate entered is applied each year."
      ],
      "metadata": {
        "id": "VUgjx_UvgyPV"
      }
    },
    {
      "cell_type": "code",
      "source": [
        "#Vp= Va*(1+i)**n\n",
        "\n",
        "ValorInicial= float(input(\"Ingrese Capital inicial en dolares: \")) #Se piden datos iniciales para realizar operación\n",
        "Interes = float(input('Ingrese Interes anual: '))\n",
        "años = int(input('Ingrese Cantidad de años: '))\n",
        " \n",
        "x = (ValorInicial * (1 + Interes/100) ** años) #Ecuación con valores iniciales para determinal final\n",
        " \n",
        "print('El capital total al cabo de %d años sera de %.2f' %(años,x)) # Se imprime valor , se usa %d para marcar posición de numero entero, en este caso \"años\"; \n",
        "# se utiliza %.2f para la posición del flotante e indicar que queremos que se redondee a dos decimales, en este caso x \n"
      ],
      "metadata": {
        "id": "eC3D18OUgzOE",
        "colab": {
          "base_uri": "https://localhost:8080/"
        },
        "outputId": "e3fb5aa0-dd60-4d03-f0fa-565a5c6ee9f7"
      },
      "execution_count": null,
      "outputs": [
        {
          "output_type": "stream",
          "name": "stdout",
          "text": [
            "Ingrese Capital inicial en dolares: 6000\n",
            "Ingrese Interes anual: 7\n",
            "Ingrese Cantidad de años: 9\n",
            "El capital total al cabo de 9 años sera de 11030.76\n"
          ]
        }
      ]
    },
    {
      "cell_type": "markdown",
      "source": [
        "9. Create an algorithm that ask for one number the (0 to 100), the program have to create a multiplication table from 0 to the selected number."
      ],
      "metadata": {
        "id": "ljDbUiQUg3LA"
      }
    },
    {
      "cell_type": "code",
      "source": [
        "print(\"enter a number from 0 to 100\")#Especificacion para que el usuario ingrese un numero del 1 al 100.\n",
        "n=int(input())#Ingreso del Numero\n",
        "print(\"your number from 0 to 100:\",n ) #imprimir \"you number from 0 to 100:\"el numero ingresado\"\n",
        "for f in range(0,n+1):  #Estableemos un bucle for para f para  contar desde 0 hasta el numero ingrsado mas 1 para que este tambien cuente el numero ingresado\n",
        "  m=f*n # establecemos variable en la cual se almacenará la operacion de multiplicacion\n",
        "  print(f'{f} x {n} = {m}') # imprimimos los resultados de esta forma para que en la primera \"columna\" aparezcan los datos de f, luego el x y luego el valor de n que es el numero ingresado, y luego el resultado de cada multiplicacion."
      ],
      "metadata": {
        "id": "Cp7P7i8Wg361",
        "colab": {
          "base_uri": "https://localhost:8080/"
        },
        "outputId": "09275c0a-a7e0-4e89-f635-3701de60068f"
      },
      "execution_count": null,
      "outputs": [
        {
          "output_type": "stream",
          "name": "stdout",
          "text": [
            "enter a number from 0 to 100\n",
            "8\n",
            "your number from 0 to 100: 8\n",
            "0 x 8 = 0\n",
            "1 x 8 = 8\n",
            "2 x 8 = 16\n",
            "3 x 8 = 24\n",
            "4 x 8 = 32\n",
            "5 x 8 = 40\n",
            "6 x 8 = 48\n",
            "7 x 8 = 56\n",
            "8 x 8 = 64\n"
          ]
        }
      ]
    }
  ]
}