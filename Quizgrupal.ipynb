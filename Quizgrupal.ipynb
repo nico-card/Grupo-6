{
  "nbformat": 4,
  "nbformat_minor": 0,
  "metadata": {
    "colab": {
      "provenance": [],
      "collapsed_sections": []
    },
    "kernelspec": {
      "name": "python3",
      "display_name": "Python 3"
    },
    "language_info": {
      "name": "python"
    }
  },
  "cells": [
    {
      "cell_type": "code",
      "execution_count": null,
      "metadata": {
        "id": "4mPn-Ygy4-s3"
      },
      "outputs": [],
      "source": [
        "import json\n",
        "import requests\n",
        "from pprint import pprint"
      ]
    },
    {
      "cell_type": "code",
      "source": [
        "response=requests.get(\"https://fp.josedomingo.org/lmgs/u05/ej2.json\")\n",
        "pendientes=json.loads(response.text)"
      ],
      "metadata": {
        "id": "5nyBnGU85QS9"
      },
      "execution_count": null,
      "outputs": []
    },
    {
      "cell_type": "code",
      "source": [
        "pprint(pendientes)"
      ],
      "metadata": {
        "colab": {
          "base_uri": "https://localhost:8080/"
        },
        "id": "xsOE65Kp5TAr",
        "outputId": "d8430aa3-594c-4a20-807b-b3cd5a02dba7"
      },
      "execution_count": null,
      "outputs": [
        {
          "output_type": "stream",
          "name": "stdout",
          "text": [
            "[{'$id': '1',\n",
            "  'Categoria': 'Zona Metropolitana',\n",
            "  'ECTS': None,\n",
            "  'FinImparticion': '2015-02-06T00:00:00',\n",
            "  'Horario': None,\n",
            "  'Horas': 2,\n",
            "  'ID': 'A15050163',\n",
            "  'InicioImparticion': '2015-01-09T00:00:00',\n",
            "  'MCER': None,\n",
            "  'Nivel': 'Prueba de nivel - Para cursos segundo cuatrimestre',\n",
            "  'Profesorado': [{'$id': '2', 'NombreCompleto': 'Reinhard Dlugay'}],\n",
            "  'TipoFormacion': 'NoPresencial',\n",
            "  'Titulo': 'Alemán - Prueba de nivel - Para cursos segundo cuatrimestre',\n",
            "  'URL': 'https://sede.fg.ull.es/es/idioma/detalle/A15050163/aleman-prueba-de-nivel-para-cursos-segundo-cuatrimestre'},\n",
            " {'$id': '3',\n",
            "  'Categoria': 'Zona Metropolitana',\n",
            "  'ECTS': None,\n",
            "  'FinImparticion': '2015-02-05T00:00:00',\n",
            "  'Horario': None,\n",
            "  'Horas': 2,\n",
            "  'ID': 'A15050167',\n",
            "  'InicioImparticion': '2015-01-09T00:00:00',\n",
            "  'MCER': None,\n",
            "  'Nivel': 'Prueba de nivel - Para cursos segundo cuatrimestre',\n",
            "  'Profesorado': [{'$id': '4', 'NombreCompleto': 'Beatriz Hernández Bravo'}],\n",
            "  'TipoFormacion': 'No Presencial',\n",
            "  'Titulo': 'Español - Prueba de nivel - Para cursos segundo cuatrimestre',\n",
            "  'URL': 'https://sede.fg.ull.es/es/idioma/detalle/A15050167/espa-ol-prueba-de-nivel-para-cursos-segundo-cuatrimestre'},\n",
            " {'$id': '5',\n",
            "  'Categoria': 'Zona Metropolitana',\n",
            "  'ECTS': None,\n",
            "  'FinImparticion': '2015-02-05T00:00:00',\n",
            "  'Horario': None,\n",
            "  'Horas': 1,\n",
            "  'ID': 'A15050162',\n",
            "  'InicioImparticion': '2015-01-07T00:00:00',\n",
            "  'MCER': None,\n",
            "  'Nivel': 'Prueba de nivel - Para cursos segundo cuatrimestre',\n",
            "  'Profesorado': [{'$id': '6', 'NombreCompleto': 'Marie-Morgane Le Folgoc'}],\n",
            "  'TipoFormacion': 'Presencial',\n",
            "  'Titulo': 'Francés - Prueba de nivel - Para cursos segundo cuatrimestre',\n",
            "  'URL': 'https://sede.fg.ull.es/es/idioma/detalle/A15050162/frances-prueba-de-nivel-para-cursos-segundo-cuatrimestre'},\n",
            " {'$id': '7',\n",
            "  'Categoria': 'Zona Metropolitana',\n",
            "  'ECTS': None,\n",
            "  'FinImparticion': '2015-03-03T00:00:00',\n",
            "  'Horario': None,\n",
            "  'Horas': 4,\n",
            "  'ID': 'A15050182',\n",
            "  'InicioImparticion': '2015-02-10T00:00:00',\n",
            "  'MCER': None,\n",
            "  'Nivel': 'Prueba de nivel - para cursos de Inglés para la Docencia y '\n",
            "           'preparatorio de GESE Trinity',\n",
            "  'Profesorado': [{'$id': '8', 'NombreCompleto': 'María Luisa Capón Mouriz'}],\n",
            "  'TipoFormacion': 'Presencial',\n",
            "  'Titulo': 'Inglés - Prueba de nivel - para cursos de Inglés para la Docencia '\n",
            "            'y preparatorio de GESE Trinity',\n",
            "  'URL': 'https://sede.fg.ull.es/es/idioma/detalle/A15050182/ingles-prueba-de-nivel-para-cursos-de-ingles-para-la-docencia-y-preparatorio-de-gese-trinity'},\n",
            " {'$id': '9',\n",
            "  'Categoria': 'Zona Metropolitana',\n",
            "  'ECTS': None,\n",
            "  'FinImparticion': '2015-02-12T00:00:00',\n",
            "  'Horario': None,\n",
            "  'Horas': 3,\n",
            "  'ID': 'A15050007',\n",
            "  'InicioImparticion': '2015-01-09T00:00:00',\n",
            "  'MCER': None,\n",
            "  'Nivel': 'Prueba de nivel - Para cursos segundo cuatrimestre',\n",
            "  'Profesorado': [{'$id': '10', 'NombreCompleto': 'María Luisa Capón Mouriz'},\n",
            "                  {'$id': '11', 'NombreCompleto': 'Richard James Murison'},\n",
            "                  {'$id': '12',\n",
            "                   'NombreCompleto': 'María Isabel Rodríguez Rodríguez'},\n",
            "                  {'$id': '13', 'NombreCompleto': 'Beatriz Freire Betancor'},\n",
            "                  {'$id': '14',\n",
            "                   'NombreCompleto': 'Peggy Gerd Henriksson Carlsson'},\n",
            "                  {'$id': '15',\n",
            "                   'NombreCompleto': 'Eva Miriam Amaral Ribeiro Sampaio de '\n",
            "                                     'Andrade'},\n",
            "                  {'$id': '16', 'NombreCompleto': 'Marta María González Orta'}],\n",
            "  'TipoFormacion': 'Presencial',\n",
            "  'Titulo': 'Inglés - Prueba de nivel - Para cursos segundo cuatrimestre',\n",
            "  'URL': 'https://sede.fg.ull.es/es/idioma/detalle/A15050007/ingles-prueba-de-nivel-para-cursos-segundo-cuatrimestre'},\n",
            " {'$id': '17',\n",
            "  'Categoria': 'Zona Metropolitana',\n",
            "  'ECTS': None,\n",
            "  'FinImparticion': '2015-02-04T00:00:00',\n",
            "  'Horario': None,\n",
            "  'Horas': 1,\n",
            "  'ID': 'A15050166',\n",
            "  'InicioImparticion': '2015-01-12T00:00:00',\n",
            "  'MCER': None,\n",
            "  'Nivel': 'Prueba de nivel - Para preparatorios del FCE/CAE/CPE/IELTS',\n",
            "  'Profesorado': [{'$id': '18', 'NombreCompleto': 'Clive Tyrell'}],\n",
            "  'TipoFormacion': 'Presencial',\n",
            "  'Titulo': 'Inglés - Prueba de nivel - Para preparatorios del '\n",
            "            'FCE/CAE/CPE/IELTS',\n",
            "  'URL': 'https://sede.fg.ull.es/es/idioma/detalle/A15050166/ingles-prueba-de-nivel-para-preparatorios-del-fce-cae-cpe-ielts'},\n",
            " {'$id': '19',\n",
            "  'Categoria': 'Zona Metropolitana',\n",
            "  'ECTS': None,\n",
            "  'FinImparticion': '2015-02-09T00:00:00',\n",
            "  'Horario': None,\n",
            "  'Horas': 2,\n",
            "  'ID': 'A15050164',\n",
            "  'InicioImparticion': '2015-01-12T00:00:00',\n",
            "  'MCER': None,\n",
            "  'Nivel': 'Prueba de nivel - Para cursos segundo cuatrimestre',\n",
            "  'Profesorado': [{'$id': '20', 'NombreCompleto': 'Nicola Cataldo'}],\n",
            "  'TipoFormacion': 'Presencial',\n",
            "  'Titulo': 'Italiano - Prueba de nivel - Para cursos segundo cuatrimestre',\n",
            "  'URL': 'https://sede.fg.ull.es/es/idioma/detalle/A15050164/italiano-prueba-de-nivel-para-cursos-segundo-cuatrimestre'}]\n"
          ]
        }
      ]
    },
    {
      "cell_type": "markdown",
      "source": [
        "¿Cuántas pruebas de idiomas están descritas en el documento?"
      ],
      "metadata": {
        "id": "KVczObXZrV3c"
      }
    },
    {
      "cell_type": "code",
      "source": [
        "a=len(pendientes)\n",
        "print(\"Hay\",a , \"cursos de idiomas\")"
      ],
      "metadata": {
        "colab": {
          "base_uri": "https://localhost:8080/"
        },
        "id": "kk0BK5UE5hOX",
        "outputId": "4e142a78-0673-42a5-c0fb-bb2edfe8026d"
      },
      "execution_count": null,
      "outputs": [
        {
          "output_type": "stream",
          "name": "stdout",
          "text": [
            "Hay 7 cursos de idiomas\n"
          ]
        }
      ]
    },
    {
      "cell_type": "code",
      "source": [
        "Lista=[]\n",
        "Lista2=[]\n",
        "\n",
        "for i in pendientes:\n",
        "  if i.get(\"Horas\") >= 2:\n",
        "    Lista.append(i)\n",
        "\n",
        "for j in Lista:\n",
        "  b=j.get(\"Titulo\")\n",
        "  Lista2.append(b)\n",
        "  r=sorted(Lista2)\n",
        "\n",
        "pprint(Lista2)\n"
      ],
      "metadata": {
        "colab": {
          "base_uri": "https://localhost:8080/"
        },
        "id": "1A9p5fM45laI",
        "outputId": "59505b68-712b-46e8-8095-d69df3f7bf69"
      },
      "execution_count": null,
      "outputs": [
        {
          "output_type": "stream",
          "name": "stdout",
          "text": [
            "['Alemán - Prueba de nivel - Para cursos segundo cuatrimestre',\n",
            " 'Español - Prueba de nivel - Para cursos segundo cuatrimestre',\n",
            " 'Inglés - Prueba de nivel - para cursos de Inglés para la Docencia y '\n",
            " 'preparatorio de GESE Trinity',\n",
            " 'Inglés - Prueba de nivel - Para cursos segundo cuatrimestre',\n",
            " 'Italiano - Prueba de nivel - Para cursos segundo cuatrimestre']\n"
          ]
        }
      ]
    },
    {
      "cell_type": "markdown",
      "source": [
        "De las pruebas de tipo “No Presencial” devuelve la URL de información.\n"
      ],
      "metadata": {
        "id": "bIm_5CKE-Fec"
      }
    },
    {
      "cell_type": "code",
      "source": [
        "def prueba(pendientes):\n",
        "  lista=[]\n",
        "  lista2=[]\n",
        "  for h in pendientes:\n",
        "  \n",
        "    if h.get(\"TipoFormacion\")==\"NoPresencial\" or \"No Presencial\":\n",
        "      lista.append(h)\n",
        "      print()\n",
        "  #return lista\n",
        "  for v in lista:\n",
        "    b= v.get('URL')\n",
        "    lista2.append(b)\n",
        "  return lista2"
      ],
      "metadata": {
        "id": "IJlv6wNa7sgG"
      },
      "execution_count": null,
      "outputs": []
    },
    {
      "cell_type": "code",
      "source": [
        "pprint(prueba(pendientes))"
      ],
      "metadata": {
        "colab": {
          "base_uri": "https://localhost:8080/"
        },
        "id": "M0mNcBnR7yXT",
        "outputId": "b7c1c285-4894-470a-bd1d-da551dd87cab"
      },
      "execution_count": null,
      "outputs": [
        {
          "output_type": "stream",
          "name": "stdout",
          "text": [
            "\n",
            "\n",
            "\n",
            "\n",
            "\n",
            "\n",
            "\n",
            "['https://sede.fg.ull.es/es/idioma/detalle/A15050163/aleman-prueba-de-nivel-para-cursos-segundo-cuatrimestre',\n",
            " 'https://sede.fg.ull.es/es/idioma/detalle/A15050167/espa-ol-prueba-de-nivel-para-cursos-segundo-cuatrimestre',\n",
            " 'https://sede.fg.ull.es/es/idioma/detalle/A15050162/frances-prueba-de-nivel-para-cursos-segundo-cuatrimestre',\n",
            " 'https://sede.fg.ull.es/es/idioma/detalle/A15050182/ingles-prueba-de-nivel-para-cursos-de-ingles-para-la-docencia-y-preparatorio-de-gese-trinity',\n",
            " 'https://sede.fg.ull.es/es/idioma/detalle/A15050007/ingles-prueba-de-nivel-para-cursos-segundo-cuatrimestre',\n",
            " 'https://sede.fg.ull.es/es/idioma/detalle/A15050166/ingles-prueba-de-nivel-para-preparatorios-del-fce-cae-cpe-ielts',\n",
            " 'https://sede.fg.ull.es/es/idioma/detalle/A15050164/italiano-prueba-de-nivel-para-cursos-segundo-cuatrimestre']\n"
          ]
        }
      ]
    },
    {
      "cell_type": "markdown",
      "source": [
        "Recibe el código de la prueba “ID” y muestra su título y profesores.\n"
      ],
      "metadata": {
        "id": "HsfncqvDA7Kg"
      }
    },
    {
      "cell_type": "code",
      "source": [
        "def obtener_prueba (id):\n",
        "  pruebas = response.json()\n",
        "\n",
        "  for prueba in pruebas:\n",
        "    if prueba[\"$id\"] == id:\n",
        "      print(\"Título de la prueba :\", prueba[\"Titulo\"])\n",
        "      profesores = prueba[\"Profesorado\"]\n",
        "      print(\"Profesores:\")\n",
        "      for profesor in profesores:\n",
        "        print(\" -\"+ profesor[\"NombreCompleto\"])\n",
        "\n",
        "a= input(\"Ingrese ID de la prueba: \")\n",
        "obtener_prueba(a)"
      ],
      "metadata": {
        "colab": {
          "base_uri": "https://localhost:8080/"
        },
        "id": "ZpD58wVjoM1Q",
        "outputId": "74c1cd16-2b41-4994-836a-19151e991e1d"
      },
      "execution_count": null,
      "outputs": [
        {
          "output_type": "stream",
          "name": "stdout",
          "text": [
            "Ingrese ID de la prueba: 19\n",
            "Título de la prueba : Italiano - Prueba de nivel - Para cursos segundo cuatrimestre\n",
            "Profesores:\n",
            " -Nicola Cataldo\n"
          ]
        }
      ]
    },
    {
      "cell_type": "markdown",
      "source": [
        "Crear un archivo “.json” con la información: Título y sus profesores. \n"
      ],
      "metadata": {
        "id": "mI8ZS3BGvjJE"
      }
    },
    {
      "cell_type": "code",
      "source": [
        "Titulo_Profesores= response.json()\n",
        "\n",
        "\n",
        "for p in Titulo_Profesores:\n",
        "  del p[\"URL\"]\n",
        "  del p[\"$id\"]\n",
        "  del p[\"MCER\"]\n",
        "  del p[\"Nivel\"]\n",
        "  del p[\"ID\"]\n",
        "  del p[\"Horario\"]\n",
        "  del p[\"InicioImparticion\"]\n",
        "  del p[\"FinImparticion\"]\n",
        "  del p[\"Horas\"]\n",
        "  del p[\"TipoFormacion\"]\n",
        "  del p[\"ECTS\"]\n",
        "  del p[\"Categoria\"]\n",
        "\n",
        "print()\n",
        "pprint(Titulo_Profesores)\n",
        "\n",
        "response=requests.get(\"https://fp.josedomingo.org/lmgs/u05/ej2.json\")\n",
        "pendientes=json.loads(response.text)  \n",
        "json.dump(Titulo_Profesores, indent=4)\n",
        "  \n",
        "\n"
      ],
      "metadata": {
        "colab": {
          "base_uri": "https://localhost:8080/"
        },
        "id": "L_YT9DoFvy0i",
        "outputId": "2be5ee93-e73d-4762-aead-37f407303c25"
      },
      "execution_count": null,
      "outputs": [
        {
          "output_type": "stream",
          "name": "stdout",
          "text": [
            "\n",
            "[{'Profesorado': [{'$id': '2', 'NombreCompleto': 'Reinhard Dlugay'}],\n",
            "  'Titulo': 'Alemán - Prueba de nivel - Para cursos segundo cuatrimestre'},\n",
            " {'Profesorado': [{'$id': '4', 'NombreCompleto': 'Beatriz Hernández Bravo'}],\n",
            "  'Titulo': 'Español - Prueba de nivel - Para cursos segundo cuatrimestre'},\n",
            " {'Profesorado': [{'$id': '6', 'NombreCompleto': 'Marie-Morgane Le Folgoc'}],\n",
            "  'Titulo': 'Francés - Prueba de nivel - Para cursos segundo cuatrimestre'},\n",
            " {'Profesorado': [{'$id': '8', 'NombreCompleto': 'María Luisa Capón Mouriz'}],\n",
            "  'Titulo': 'Inglés - Prueba de nivel - para cursos de Inglés para la Docencia '\n",
            "            'y preparatorio de GESE Trinity'},\n",
            " {'Profesorado': [{'$id': '10', 'NombreCompleto': 'María Luisa Capón Mouriz'},\n",
            "                  {'$id': '11', 'NombreCompleto': 'Richard James Murison'},\n",
            "                  {'$id': '12',\n",
            "                   'NombreCompleto': 'María Isabel Rodríguez Rodríguez'},\n",
            "                  {'$id': '13', 'NombreCompleto': 'Beatriz Freire Betancor'},\n",
            "                  {'$id': '14',\n",
            "                   'NombreCompleto': 'Peggy Gerd Henriksson Carlsson'},\n",
            "                  {'$id': '15',\n",
            "                   'NombreCompleto': 'Eva Miriam Amaral Ribeiro Sampaio de '\n",
            "                                     'Andrade'},\n",
            "                  {'$id': '16', 'NombreCompleto': 'Marta María González Orta'}],\n",
            "  'Titulo': 'Inglés - Prueba de nivel - Para cursos segundo cuatrimestre'},\n",
            " {'Profesorado': [{'$id': '18', 'NombreCompleto': 'Clive Tyrell'}],\n",
            "  'Titulo': 'Inglés - Prueba de nivel - Para preparatorios del '\n",
            "            'FCE/CAE/CPE/IELTS'},\n",
            " {'Profesorado': [{'$id': '20', 'NombreCompleto': 'Nicola Cataldo'}],\n",
            "  'Titulo': 'Italiano - Prueba de nivel - Para cursos segundo cuatrimestre'}]\n"
          ]
        }
      ]
    },
    {
      "cell_type": "code",
      "source": [],
      "metadata": {
        "id": "SuKZ-h5W6GLW"
      },
      "execution_count": null,
      "outputs": []
    }
  ]
}